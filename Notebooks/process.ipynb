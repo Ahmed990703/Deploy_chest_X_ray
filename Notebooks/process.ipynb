{
 "cells": [
  {
   "cell_type": "code",
   "execution_count": 1,
   "metadata": {},
   "outputs": [
    {
     "name": "stdout",
     "output_type": "stream",
     "text": [
      "/Users/ahmedmaher/Desktop/Deploy Chest X-Ray Pneumonia/chest_xray\n"
     ]
    }
   ],
   "source": [
    "%cd .."
   ]
  },
  {
   "cell_type": "code",
   "execution_count": 2,
   "metadata": {},
   "outputs": [],
   "source": [
    "from PIL import Image\n",
    "import pandas as pd\n",
    "from glob import glob\n",
    "import os\n",
    "from pathlib import Path"
   ]
  },
  {
   "cell_type": "code",
   "execution_count": 13,
   "metadata": {},
   "outputs": [],
   "source": [
    "def built_data_map(folder_path):\n",
    "    imgs_path=glob(folder_path + r\"/*.jpeg\")\n",
    "    clas=Path(folder_path).name\n",
    "    split=Path(folder_path).parent.name\n",
    "    return pd.DataFrame({\n",
    "        \"img_path\":imgs_path,\n",
    "        \"class\":clas,\n",
    "        \"split\":split\n",
    "    })\n",
    "\n"
   ]
  },
  {
   "cell_type": "code",
   "execution_count": 16,
   "metadata": {},
   "outputs": [],
   "source": [
    "train_normal=built_data_map(r\"chest_xray/chest_xray/train/NORMAL\")\n",
    "train_pneumonia=built_data_map(r\"chest_xray/chest_xray/train/PNEUMONIA\")\n",
    "val_normal=built_data_map(r\"chest_xray/chest_xray/val/NORMAL\")\n",
    "val_pneumonia=built_data_map(r\"chest_xray/chest_xray/val/PNEUMONIA\")\n",
    "test_normal=built_data_map(r\"chest_xray/test/NORMAL\")\n",
    "test_pneumonia=built_data_map(r\"chest_xray/test/PNEUMONIA\")\n"
   ]
  },
  {
   "cell_type": "code",
   "execution_count": 18,
   "metadata": {},
   "outputs": [
    {
     "data": {
      "text/html": [
       "<div>\n",
       "<style scoped>\n",
       "    .dataframe tbody tr th:only-of-type {\n",
       "        vertical-align: middle;\n",
       "    }\n",
       "\n",
       "    .dataframe tbody tr th {\n",
       "        vertical-align: top;\n",
       "    }\n",
       "\n",
       "    .dataframe thead th {\n",
       "        text-align: right;\n",
       "    }\n",
       "</style>\n",
       "<table border=\"1\" class=\"dataframe\">\n",
       "  <thead>\n",
       "    <tr style=\"text-align: right;\">\n",
       "      <th></th>\n",
       "      <th>img_path</th>\n",
       "      <th>class</th>\n",
       "      <th>split</th>\n",
       "    </tr>\n",
       "  </thead>\n",
       "  <tbody>\n",
       "  </tbody>\n",
       "</table>\n",
       "</div>"
      ],
      "text/plain": [
       "Empty DataFrame\n",
       "Columns: [img_path, class, split]\n",
       "Index: []"
      ]
     },
     "execution_count": 18,
     "metadata": {},
     "output_type": "execute_result"
    }
   ],
   "source": [
    "train_normal"
   ]
  },
  {
   "cell_type": "code",
   "execution_count": 19,
   "metadata": {},
   "outputs": [
    {
     "data": {
      "text/html": [
       "<div>\n",
       "<style scoped>\n",
       "    .dataframe tbody tr th:only-of-type {\n",
       "        vertical-align: middle;\n",
       "    }\n",
       "\n",
       "    .dataframe tbody tr th {\n",
       "        vertical-align: top;\n",
       "    }\n",
       "\n",
       "    .dataframe thead th {\n",
       "        text-align: right;\n",
       "    }\n",
       "</style>\n",
       "<table border=\"1\" class=\"dataframe\">\n",
       "  <thead>\n",
       "    <tr style=\"text-align: right;\">\n",
       "      <th></th>\n",
       "      <th>img_path</th>\n",
       "      <th>class</th>\n",
       "      <th>split</th>\n",
       "    </tr>\n",
       "  </thead>\n",
       "  <tbody>\n",
       "    <tr>\n",
       "      <th>0</th>\n",
       "      <td>chest_xray/test/NORMAL/IM-0031-0001.jpeg</td>\n",
       "      <td>NORMAL</td>\n",
       "      <td>test</td>\n",
       "    </tr>\n",
       "    <tr>\n",
       "      <th>1</th>\n",
       "      <td>chest_xray/test/NORMAL/IM-0025-0001.jpeg</td>\n",
       "      <td>NORMAL</td>\n",
       "      <td>test</td>\n",
       "    </tr>\n",
       "    <tr>\n",
       "      <th>2</th>\n",
       "      <td>chest_xray/test/NORMAL/NORMAL2-IM-0272-0001.jpeg</td>\n",
       "      <td>NORMAL</td>\n",
       "      <td>test</td>\n",
       "    </tr>\n",
       "    <tr>\n",
       "      <th>3</th>\n",
       "      <td>chest_xray/test/NORMAL/NORMAL2-IM-0102-0001.jpeg</td>\n",
       "      <td>NORMAL</td>\n",
       "      <td>test</td>\n",
       "    </tr>\n",
       "    <tr>\n",
       "      <th>4</th>\n",
       "      <td>chest_xray/test/NORMAL/NORMAL2-IM-0229-0001.jpeg</td>\n",
       "      <td>NORMAL</td>\n",
       "      <td>test</td>\n",
       "    </tr>\n",
       "    <tr>\n",
       "      <th>...</th>\n",
       "      <td>...</td>\n",
       "      <td>...</td>\n",
       "      <td>...</td>\n",
       "    </tr>\n",
       "    <tr>\n",
       "      <th>385</th>\n",
       "      <td>chest_xray/test/PNEUMONIA/person120_bacteria_5...</td>\n",
       "      <td>PNEUMONIA</td>\n",
       "      <td>test</td>\n",
       "    </tr>\n",
       "    <tr>\n",
       "      <th>386</th>\n",
       "      <td>chest_xray/test/PNEUMONIA/person171_bacteria_8...</td>\n",
       "      <td>PNEUMONIA</td>\n",
       "      <td>test</td>\n",
       "    </tr>\n",
       "    <tr>\n",
       "      <th>387</th>\n",
       "      <td>chest_xray/test/PNEUMONIA/person109_bacteria_5...</td>\n",
       "      <td>PNEUMONIA</td>\n",
       "      <td>test</td>\n",
       "    </tr>\n",
       "    <tr>\n",
       "      <th>388</th>\n",
       "      <td>chest_xray/test/PNEUMONIA/person83_bacteria_41...</td>\n",
       "      <td>PNEUMONIA</td>\n",
       "      <td>test</td>\n",
       "    </tr>\n",
       "    <tr>\n",
       "      <th>389</th>\n",
       "      <td>chest_xray/test/PNEUMONIA/person112_bacteria_5...</td>\n",
       "      <td>PNEUMONIA</td>\n",
       "      <td>test</td>\n",
       "    </tr>\n",
       "  </tbody>\n",
       "</table>\n",
       "<p>624 rows × 3 columns</p>\n",
       "</div>"
      ],
      "text/plain": [
       "                                              img_path      class split\n",
       "0             chest_xray/test/NORMAL/IM-0031-0001.jpeg     NORMAL  test\n",
       "1             chest_xray/test/NORMAL/IM-0025-0001.jpeg     NORMAL  test\n",
       "2     chest_xray/test/NORMAL/NORMAL2-IM-0272-0001.jpeg     NORMAL  test\n",
       "3     chest_xray/test/NORMAL/NORMAL2-IM-0102-0001.jpeg     NORMAL  test\n",
       "4     chest_xray/test/NORMAL/NORMAL2-IM-0229-0001.jpeg     NORMAL  test\n",
       "..                                                 ...        ...   ...\n",
       "385  chest_xray/test/PNEUMONIA/person120_bacteria_5...  PNEUMONIA  test\n",
       "386  chest_xray/test/PNEUMONIA/person171_bacteria_8...  PNEUMONIA  test\n",
       "387  chest_xray/test/PNEUMONIA/person109_bacteria_5...  PNEUMONIA  test\n",
       "388  chest_xray/test/PNEUMONIA/person83_bacteria_41...  PNEUMONIA  test\n",
       "389  chest_xray/test/PNEUMONIA/person112_bacteria_5...  PNEUMONIA  test\n",
       "\n",
       "[624 rows x 3 columns]"
      ]
     },
     "execution_count": 19,
     "metadata": {},
     "output_type": "execute_result"
    }
   ],
   "source": [
    "pd.concat([train_normal,train_pneumonia,val_normal,val_pneumonia,test_normal,test_pneumonia])"
   ]
  }
 ],
 "metadata": {
  "kernelspec": {
   "display_name": "3.11.12",
   "language": "python",
   "name": "python3"
  },
  "language_info": {
   "codemirror_mode": {
    "name": "ipython",
    "version": 3
   },
   "file_extension": ".py",
   "mimetype": "text/x-python",
   "name": "python",
   "nbconvert_exporter": "python",
   "pygments_lexer": "ipython3",
   "version": "3.11.12"
  }
 },
 "nbformat": 4,
 "nbformat_minor": 2
}
